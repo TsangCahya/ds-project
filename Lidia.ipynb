{
  "nbformat": 4,
  "nbformat_minor": 0,
  "metadata": {
    "colab": {
      "provenance": [],
      "authorship_tag": "ABX9TyMuBjqQIImHULT5gjWKGmrH",
      "include_colab_link": true
    },
    "kernelspec": {
      "name": "python3",
      "display_name": "Python 3"
    },
    "language_info": {
      "name": "python"
    }
  },
  "cells": [
    {
      "cell_type": "markdown",
      "metadata": {
        "id": "view-in-github",
        "colab_type": "text"
      },
      "source": [
        "<a href=\"https://colab.research.google.com/github/TsangCahya/ds-project/blob/main/Lidia.ipynb\" target=\"_parent\"><img src=\"https://colab.research.google.com/assets/colab-badge.svg\" alt=\"Open In Colab\"/></a>"
      ]
    },
    {
      "cell_type": "markdown",
      "source": [
        "\n",
        "\n",
        "##📘 Data Dictionary: Gaji Pekerjaan pada AI, ML, Data Science and Big Data.\n",
        "\n",
        "Source https://aijobs.net/\n",
        "\n",
        "data diambil dalam format .csv dengan ukuran 6,7 MB\n",
        "\n",
        "\n",
        "| Nama Kolom           | Deskripsi                                                                                          | Tipe Data     | Skala Data     | Nilai / Keterangan                                              |\n",
        "|----------------------|--------------------------------------------------------------------------------------------------|---------------|----------------|----------------------------------------------------------------|\n",
        "| work_year            | Tahun ketika gaji dibayarkan.                                                                     | Numerik       | Discrete, Interval | 2020, 2021, 2022, 2023, 2024, 2025                                         |\n",
        "| experience_level     | Tingkat pengalaman dalam pekerjaan selama tahun tersebut.                                         | Kategorikal   | Ordinal        | EN (Entry-level), MI (Menengah), SE (Senior), EX (Eksekutif)  |\n",
        "| employment_type      | Jenis pekerjaan atau kontrak kerja.                                                              | Kategorikal   | Nominal        | FT (Penuh waktu), PT (Paruh waktu), CT (Kontrak), FL (Freelance)|\n",
        "| job_title            | Nama jabatan/posisi pekerjaan selama tahun tersebut.                                             | Kategorikal   | Nominal        | Contoh: Data Scientist, Machine Learning Engineer, dll.       |\n",
        "| salary               | Jumlah total gaji kotor yang dibayarkan.                                                         | Numerik       | Kontinu, Rasio          | Angka (dalam satuan mata uang asli)                            |\n",
        "| salary_currency      | Mata uang dari gaji yang dibayarkan (kode ISO 4217).                                             | Kategorikal   | Nominal        | Contoh: USD, EUR, GBP                                          |\n",
        "| salary_in_usd        | Gaji yang telah dikonversi ke USD.                                                               | Numerik       | kotinu, Rasio          | Angka (dalam USD, sudah disesuaikan dengan nilai tukar rata-rata)|\n",
        "| employee_residence   | Negara tempat tinggal utama karyawan selama tahun bekerja (kode ISO 3166).                        | Kategorikal   | Nominal        | Contoh: US, ID, IN, DE                                        |\n",
        "| remote_ratio         | Persentase pekerjaan yang dilakukan secara jarak jauh (remote).                                  | Numerik       | Discrete, Interval       | 0 = Tidak remote, 50 = Hybrid, 100 = Sepenuhnya remote        |\n",
        "| company_location     | Negara lokasi utama kantor/perusahaan tempat bekerja (kode ISO 3166).                            | Kategorikal   | Nominal        | Contoh: US, IN, CA, DE                                        |\n",
        "| company_size         | Rata-rata jumlah karyawan di perusahaan selama tahun tersebut.                                   | Kategorikal   | Ordinal        | S (<50), M (50–250), L (>250)                                 |\n",
        "\n",
        "\n"
      ],
      "metadata": {
        "id": "Ixq7amKqbJP2"
      }
    },
    {
      "cell_type": "markdown",
      "source": [
        "## Pengambilan data\n"
      ],
      "metadata": {
        "id": "PXlSWCHkaN8-"
      }
    },
    {
      "cell_type": "code",
      "source": [
        "import pandas as pd\n",
        "import numpy as np\n",
        "import matplotlib.pyplot as plt\n",
        "import plotly.express as px\n",
        "%matplotlib inline\n",
        "import seaborn as sns\n",
        "import warnings"
      ],
      "metadata": {
        "id": "4gvyBO9saTRI"
      },
      "execution_count": 19,
      "outputs": []
    },
    {
      "cell_type": "code",
      "source": [
        "colors = [\"#FF5733\", \"#33FFC7\", \"#FF33A8\", \"#33A8FF\", \"#FFCE33\",\n",
        "          \"#33FF57\", \"#FF338E\", \"#337BFF\", \"#FF8E33\", \"#334DFF\",\n",
        "          \"#B533FF\", \"#33FFCE\", \"#FF3333\", \"#33FF33\", \"#FF33FF\"]"
      ],
      "metadata": {
        "id": "5VkpSZ7KTSFK"
      },
      "execution_count": 20,
      "outputs": []
    },
    {
      "cell_type": "code",
      "source": [
        "df = pd.read_csv('https://raw.githubusercontent.com/TsangCahya/ds-project/refs/heads/main/salaries.csv')"
      ],
      "metadata": {
        "id": "6KcaQ95_hksJ"
      },
      "execution_count": 21,
      "outputs": []
    },
    {
      "cell_type": "markdown",
      "source": [
        "## Karakteristik data"
      ],
      "metadata": {
        "id": "3CXWySmMi96c"
      }
    },
    {
      "cell_type": "markdown",
      "source": [
        "### Mengecek bentuk data"
      ],
      "metadata": {
        "id": "Br2P9k4SowuY"
      }
    },
    {
      "cell_type": "code",
      "source": [
        "df.shape"
      ],
      "metadata": {
        "colab": {
          "base_uri": "https://localhost:8080/"
        },
        "id": "VCQq6obtov0n",
        "outputId": "873e886d-d7d4-4090-ce46-09aa75d62a7a"
      },
      "execution_count": 22,
      "outputs": [
        {
          "output_type": "execute_result",
          "data": {
            "text/plain": [
              "(121603, 11)"
            ]
          },
          "metadata": {},
          "execution_count": 22
        }
      ]
    },
    {
      "cell_type": "markdown",
      "source": [
        "### Mengecek kolom pada data"
      ],
      "metadata": {
        "id": "swZYLeQFpG3d"
      }
    },
    {
      "cell_type": "code",
      "source": [
        "df.columns"
      ],
      "metadata": {
        "colab": {
          "base_uri": "https://localhost:8080/"
        },
        "id": "Xk57xOmqpKOp",
        "outputId": "372d50dc-733a-4b88-e525-efb71ffe615f"
      },
      "execution_count": 23,
      "outputs": [
        {
          "output_type": "execute_result",
          "data": {
            "text/plain": [
              "Index(['work_year', 'experience_level', 'employment_type', 'job_title',\n",
              "       'salary', 'salary_currency', 'salary_in_usd', 'employee_residence',\n",
              "       'remote_ratio', 'company_location', 'company_size'],\n",
              "      dtype='object')"
            ]
          },
          "metadata": {},
          "execution_count": 23
        }
      ]
    },
    {
      "cell_type": "markdown",
      "source": [
        "### Informasi data"
      ],
      "metadata": {
        "id": "B3MLHtKdpUWd"
      }
    },
    {
      "cell_type": "code",
      "source": [
        "df.info()"
      ],
      "metadata": {
        "colab": {
          "base_uri": "https://localhost:8080/"
        },
        "id": "zdY0u2DbkfX2",
        "outputId": "66f41f0a-dc2d-4cb0-8e61-89fa279e8f04"
      },
      "execution_count": 24,
      "outputs": [
        {
          "output_type": "stream",
          "name": "stdout",
          "text": [
            "<class 'pandas.core.frame.DataFrame'>\n",
            "RangeIndex: 121603 entries, 0 to 121602\n",
            "Data columns (total 11 columns):\n",
            " #   Column              Non-Null Count   Dtype \n",
            "---  ------              --------------   ----- \n",
            " 0   work_year           121603 non-null  int64 \n",
            " 1   experience_level    121603 non-null  object\n",
            " 2   employment_type     121603 non-null  object\n",
            " 3   job_title           121603 non-null  object\n",
            " 4   salary              121603 non-null  int64 \n",
            " 5   salary_currency     121603 non-null  object\n",
            " 6   salary_in_usd       121603 non-null  int64 \n",
            " 7   employee_residence  121603 non-null  object\n",
            " 8   remote_ratio        121603 non-null  int64 \n",
            " 9   company_location    121603 non-null  object\n",
            " 10  company_size        121603 non-null  object\n",
            "dtypes: int64(4), object(7)\n",
            "memory usage: 10.2+ MB\n"
          ]
        }
      ]
    },
    {
      "cell_type": "markdown",
      "source": [
        "### Karakteristik data"
      ],
      "metadata": {
        "id": "HAXaMOutp6Hf"
      }
    },
    {
      "cell_type": "code",
      "source": [
        "df.isnull().sum()"
      ],
      "metadata": {
        "colab": {
          "base_uri": "https://localhost:8080/",
          "height": 424
        },
        "id": "CMOXA9r1ksgz",
        "outputId": "fde0b4f0-564b-42e2-ee23-f0ae67bd373d"
      },
      "execution_count": 25,
      "outputs": [
        {
          "output_type": "execute_result",
          "data": {
            "text/plain": [
              "work_year             0\n",
              "experience_level      0\n",
              "employment_type       0\n",
              "job_title             0\n",
              "salary                0\n",
              "salary_currency       0\n",
              "salary_in_usd         0\n",
              "employee_residence    0\n",
              "remote_ratio          0\n",
              "company_location      0\n",
              "company_size          0\n",
              "dtype: int64"
            ],
            "text/html": [
              "<div>\n",
              "<style scoped>\n",
              "    .dataframe tbody tr th:only-of-type {\n",
              "        vertical-align: middle;\n",
              "    }\n",
              "\n",
              "    .dataframe tbody tr th {\n",
              "        vertical-align: top;\n",
              "    }\n",
              "\n",
              "    .dataframe thead th {\n",
              "        text-align: right;\n",
              "    }\n",
              "</style>\n",
              "<table border=\"1\" class=\"dataframe\">\n",
              "  <thead>\n",
              "    <tr style=\"text-align: right;\">\n",
              "      <th></th>\n",
              "      <th>0</th>\n",
              "    </tr>\n",
              "  </thead>\n",
              "  <tbody>\n",
              "    <tr>\n",
              "      <th>work_year</th>\n",
              "      <td>0</td>\n",
              "    </tr>\n",
              "    <tr>\n",
              "      <th>experience_level</th>\n",
              "      <td>0</td>\n",
              "    </tr>\n",
              "    <tr>\n",
              "      <th>employment_type</th>\n",
              "      <td>0</td>\n",
              "    </tr>\n",
              "    <tr>\n",
              "      <th>job_title</th>\n",
              "      <td>0</td>\n",
              "    </tr>\n",
              "    <tr>\n",
              "      <th>salary</th>\n",
              "      <td>0</td>\n",
              "    </tr>\n",
              "    <tr>\n",
              "      <th>salary_currency</th>\n",
              "      <td>0</td>\n",
              "    </tr>\n",
              "    <tr>\n",
              "      <th>salary_in_usd</th>\n",
              "      <td>0</td>\n",
              "    </tr>\n",
              "    <tr>\n",
              "      <th>employee_residence</th>\n",
              "      <td>0</td>\n",
              "    </tr>\n",
              "    <tr>\n",
              "      <th>remote_ratio</th>\n",
              "      <td>0</td>\n",
              "    </tr>\n",
              "    <tr>\n",
              "      <th>company_location</th>\n",
              "      <td>0</td>\n",
              "    </tr>\n",
              "    <tr>\n",
              "      <th>company_size</th>\n",
              "      <td>0</td>\n",
              "    </tr>\n",
              "  </tbody>\n",
              "</table>\n",
              "</div><br><label><b>dtype:</b> int64</label>"
            ]
          },
          "metadata": {},
          "execution_count": 25
        }
      ]
    },
    {
      "cell_type": "markdown",
      "source": [
        "Tidak ada missing value\n"
      ],
      "metadata": {
        "id": "zSLsus_SkjL0"
      }
    },
    {
      "cell_type": "code",
      "source": [
        "df.head()"
      ],
      "metadata": {
        "colab": {
          "base_uri": "https://localhost:8080/",
          "height": 394
        },
        "id": "yGeOHU2WijMz",
        "outputId": "78508d7e-ce55-4986-d306-b4cab87f2224"
      },
      "execution_count": 26,
      "outputs": [
        {
          "output_type": "execute_result",
          "data": {
            "text/plain": [
              "   work_year experience_level employment_type                    job_title  \\\n",
              "0       2025               SE              FT    Machine Learning Engineer   \n",
              "1       2025               SE              FT    Machine Learning Engineer   \n",
              "2       2025               SE              FT    Machine Learning Engineer   \n",
              "3       2025               SE              FT    Machine Learning Engineer   \n",
              "4       2025               MI              FT  Machine Learning Specialist   \n",
              "\n",
              "   salary salary_currency  salary_in_usd employee_residence  remote_ratio  \\\n",
              "0  200000             USD         200000                 CA           100   \n",
              "1  150000             USD         150000                 CA           100   \n",
              "2  315000             USD         315000                 US             0   \n",
              "3  252000             USD         252000                 US             0   \n",
              "4  158000             USD         158000                 US             0   \n",
              "\n",
              "  company_location company_size  \n",
              "0               CA            M  \n",
              "1               CA            M  \n",
              "2               US            M  \n",
              "3               US            M  \n",
              "4               US            M  "
            ],
            "text/html": [
              "\n",
              "  <div id=\"df-4a9dd852-594d-4ee7-9062-27c80abc724b\" class=\"colab-df-container\">\n",
              "    <div>\n",
              "<style scoped>\n",
              "    .dataframe tbody tr th:only-of-type {\n",
              "        vertical-align: middle;\n",
              "    }\n",
              "\n",
              "    .dataframe tbody tr th {\n",
              "        vertical-align: top;\n",
              "    }\n",
              "\n",
              "    .dataframe thead th {\n",
              "        text-align: right;\n",
              "    }\n",
              "</style>\n",
              "<table border=\"1\" class=\"dataframe\">\n",
              "  <thead>\n",
              "    <tr style=\"text-align: right;\">\n",
              "      <th></th>\n",
              "      <th>work_year</th>\n",
              "      <th>experience_level</th>\n",
              "      <th>employment_type</th>\n",
              "      <th>job_title</th>\n",
              "      <th>salary</th>\n",
              "      <th>salary_currency</th>\n",
              "      <th>salary_in_usd</th>\n",
              "      <th>employee_residence</th>\n",
              "      <th>remote_ratio</th>\n",
              "      <th>company_location</th>\n",
              "      <th>company_size</th>\n",
              "    </tr>\n",
              "  </thead>\n",
              "  <tbody>\n",
              "    <tr>\n",
              "      <th>0</th>\n",
              "      <td>2025</td>\n",
              "      <td>SE</td>\n",
              "      <td>FT</td>\n",
              "      <td>Machine Learning Engineer</td>\n",
              "      <td>200000</td>\n",
              "      <td>USD</td>\n",
              "      <td>200000</td>\n",
              "      <td>CA</td>\n",
              "      <td>100</td>\n",
              "      <td>CA</td>\n",
              "      <td>M</td>\n",
              "    </tr>\n",
              "    <tr>\n",
              "      <th>1</th>\n",
              "      <td>2025</td>\n",
              "      <td>SE</td>\n",
              "      <td>FT</td>\n",
              "      <td>Machine Learning Engineer</td>\n",
              "      <td>150000</td>\n",
              "      <td>USD</td>\n",
              "      <td>150000</td>\n",
              "      <td>CA</td>\n",
              "      <td>100</td>\n",
              "      <td>CA</td>\n",
              "      <td>M</td>\n",
              "    </tr>\n",
              "    <tr>\n",
              "      <th>2</th>\n",
              "      <td>2025</td>\n",
              "      <td>SE</td>\n",
              "      <td>FT</td>\n",
              "      <td>Machine Learning Engineer</td>\n",
              "      <td>315000</td>\n",
              "      <td>USD</td>\n",
              "      <td>315000</td>\n",
              "      <td>US</td>\n",
              "      <td>0</td>\n",
              "      <td>US</td>\n",
              "      <td>M</td>\n",
              "    </tr>\n",
              "    <tr>\n",
              "      <th>3</th>\n",
              "      <td>2025</td>\n",
              "      <td>SE</td>\n",
              "      <td>FT</td>\n",
              "      <td>Machine Learning Engineer</td>\n",
              "      <td>252000</td>\n",
              "      <td>USD</td>\n",
              "      <td>252000</td>\n",
              "      <td>US</td>\n",
              "      <td>0</td>\n",
              "      <td>US</td>\n",
              "      <td>M</td>\n",
              "    </tr>\n",
              "    <tr>\n",
              "      <th>4</th>\n",
              "      <td>2025</td>\n",
              "      <td>MI</td>\n",
              "      <td>FT</td>\n",
              "      <td>Machine Learning Specialist</td>\n",
              "      <td>158000</td>\n",
              "      <td>USD</td>\n",
              "      <td>158000</td>\n",
              "      <td>US</td>\n",
              "      <td>0</td>\n",
              "      <td>US</td>\n",
              "      <td>M</td>\n",
              "    </tr>\n",
              "  </tbody>\n",
              "</table>\n",
              "</div>\n",
              "    <div class=\"colab-df-buttons\">\n",
              "\n",
              "  <div class=\"colab-df-container\">\n",
              "    <button class=\"colab-df-convert\" onclick=\"convertToInteractive('df-4a9dd852-594d-4ee7-9062-27c80abc724b')\"\n",
              "            title=\"Convert this dataframe to an interactive table.\"\n",
              "            style=\"display:none;\">\n",
              "\n",
              "  <svg xmlns=\"http://www.w3.org/2000/svg\" height=\"24px\" viewBox=\"0 -960 960 960\">\n",
              "    <path d=\"M120-120v-720h720v720H120Zm60-500h600v-160H180v160Zm220 220h160v-160H400v160Zm0 220h160v-160H400v160ZM180-400h160v-160H180v160Zm440 0h160v-160H620v160ZM180-180h160v-160H180v160Zm440 0h160v-160H620v160Z\"/>\n",
              "  </svg>\n",
              "    </button>\n",
              "\n",
              "  <style>\n",
              "    .colab-df-container {\n",
              "      display:flex;\n",
              "      gap: 12px;\n",
              "    }\n",
              "\n",
              "    .colab-df-convert {\n",
              "      background-color: #E8F0FE;\n",
              "      border: none;\n",
              "      border-radius: 50%;\n",
              "      cursor: pointer;\n",
              "      display: none;\n",
              "      fill: #1967D2;\n",
              "      height: 32px;\n",
              "      padding: 0 0 0 0;\n",
              "      width: 32px;\n",
              "    }\n",
              "\n",
              "    .colab-df-convert:hover {\n",
              "      background-color: #E2EBFA;\n",
              "      box-shadow: 0px 1px 2px rgba(60, 64, 67, 0.3), 0px 1px 3px 1px rgba(60, 64, 67, 0.15);\n",
              "      fill: #174EA6;\n",
              "    }\n",
              "\n",
              "    .colab-df-buttons div {\n",
              "      margin-bottom: 4px;\n",
              "    }\n",
              "\n",
              "    [theme=dark] .colab-df-convert {\n",
              "      background-color: #3B4455;\n",
              "      fill: #D2E3FC;\n",
              "    }\n",
              "\n",
              "    [theme=dark] .colab-df-convert:hover {\n",
              "      background-color: #434B5C;\n",
              "      box-shadow: 0px 1px 3px 1px rgba(0, 0, 0, 0.15);\n",
              "      filter: drop-shadow(0px 1px 2px rgba(0, 0, 0, 0.3));\n",
              "      fill: #FFFFFF;\n",
              "    }\n",
              "  </style>\n",
              "\n",
              "    <script>\n",
              "      const buttonEl =\n",
              "        document.querySelector('#df-4a9dd852-594d-4ee7-9062-27c80abc724b button.colab-df-convert');\n",
              "      buttonEl.style.display =\n",
              "        google.colab.kernel.accessAllowed ? 'block' : 'none';\n",
              "\n",
              "      async function convertToInteractive(key) {\n",
              "        const element = document.querySelector('#df-4a9dd852-594d-4ee7-9062-27c80abc724b');\n",
              "        const dataTable =\n",
              "          await google.colab.kernel.invokeFunction('convertToInteractive',\n",
              "                                                    [key], {});\n",
              "        if (!dataTable) return;\n",
              "\n",
              "        const docLinkHtml = 'Like what you see? Visit the ' +\n",
              "          '<a target=\"_blank\" href=https://colab.research.google.com/notebooks/data_table.ipynb>data table notebook</a>'\n",
              "          + ' to learn more about interactive tables.';\n",
              "        element.innerHTML = '';\n",
              "        dataTable['output_type'] = 'display_data';\n",
              "        await google.colab.output.renderOutput(dataTable, element);\n",
              "        const docLink = document.createElement('div');\n",
              "        docLink.innerHTML = docLinkHtml;\n",
              "        element.appendChild(docLink);\n",
              "      }\n",
              "    </script>\n",
              "  </div>\n",
              "\n",
              "\n",
              "    <div id=\"df-c4cf67b7-ab01-4416-8647-5a79d0867a20\">\n",
              "      <button class=\"colab-df-quickchart\" onclick=\"quickchart('df-c4cf67b7-ab01-4416-8647-5a79d0867a20')\"\n",
              "                title=\"Suggest charts\"\n",
              "                style=\"display:none;\">\n",
              "\n",
              "<svg xmlns=\"http://www.w3.org/2000/svg\" height=\"24px\"viewBox=\"0 0 24 24\"\n",
              "     width=\"24px\">\n",
              "    <g>\n",
              "        <path d=\"M19 3H5c-1.1 0-2 .9-2 2v14c0 1.1.9 2 2 2h14c1.1 0 2-.9 2-2V5c0-1.1-.9-2-2-2zM9 17H7v-7h2v7zm4 0h-2V7h2v10zm4 0h-2v-4h2v4z\"/>\n",
              "    </g>\n",
              "</svg>\n",
              "      </button>\n",
              "\n",
              "<style>\n",
              "  .colab-df-quickchart {\n",
              "      --bg-color: #E8F0FE;\n",
              "      --fill-color: #1967D2;\n",
              "      --hover-bg-color: #E2EBFA;\n",
              "      --hover-fill-color: #174EA6;\n",
              "      --disabled-fill-color: #AAA;\n",
              "      --disabled-bg-color: #DDD;\n",
              "  }\n",
              "\n",
              "  [theme=dark] .colab-df-quickchart {\n",
              "      --bg-color: #3B4455;\n",
              "      --fill-color: #D2E3FC;\n",
              "      --hover-bg-color: #434B5C;\n",
              "      --hover-fill-color: #FFFFFF;\n",
              "      --disabled-bg-color: #3B4455;\n",
              "      --disabled-fill-color: #666;\n",
              "  }\n",
              "\n",
              "  .colab-df-quickchart {\n",
              "    background-color: var(--bg-color);\n",
              "    border: none;\n",
              "    border-radius: 50%;\n",
              "    cursor: pointer;\n",
              "    display: none;\n",
              "    fill: var(--fill-color);\n",
              "    height: 32px;\n",
              "    padding: 0;\n",
              "    width: 32px;\n",
              "  }\n",
              "\n",
              "  .colab-df-quickchart:hover {\n",
              "    background-color: var(--hover-bg-color);\n",
              "    box-shadow: 0 1px 2px rgba(60, 64, 67, 0.3), 0 1px 3px 1px rgba(60, 64, 67, 0.15);\n",
              "    fill: var(--button-hover-fill-color);\n",
              "  }\n",
              "\n",
              "  .colab-df-quickchart-complete:disabled,\n",
              "  .colab-df-quickchart-complete:disabled:hover {\n",
              "    background-color: var(--disabled-bg-color);\n",
              "    fill: var(--disabled-fill-color);\n",
              "    box-shadow: none;\n",
              "  }\n",
              "\n",
              "  .colab-df-spinner {\n",
              "    border: 2px solid var(--fill-color);\n",
              "    border-color: transparent;\n",
              "    border-bottom-color: var(--fill-color);\n",
              "    animation:\n",
              "      spin 1s steps(1) infinite;\n",
              "  }\n",
              "\n",
              "  @keyframes spin {\n",
              "    0% {\n",
              "      border-color: transparent;\n",
              "      border-bottom-color: var(--fill-color);\n",
              "      border-left-color: var(--fill-color);\n",
              "    }\n",
              "    20% {\n",
              "      border-color: transparent;\n",
              "      border-left-color: var(--fill-color);\n",
              "      border-top-color: var(--fill-color);\n",
              "    }\n",
              "    30% {\n",
              "      border-color: transparent;\n",
              "      border-left-color: var(--fill-color);\n",
              "      border-top-color: var(--fill-color);\n",
              "      border-right-color: var(--fill-color);\n",
              "    }\n",
              "    40% {\n",
              "      border-color: transparent;\n",
              "      border-right-color: var(--fill-color);\n",
              "      border-top-color: var(--fill-color);\n",
              "    }\n",
              "    60% {\n",
              "      border-color: transparent;\n",
              "      border-right-color: var(--fill-color);\n",
              "    }\n",
              "    80% {\n",
              "      border-color: transparent;\n",
              "      border-right-color: var(--fill-color);\n",
              "      border-bottom-color: var(--fill-color);\n",
              "    }\n",
              "    90% {\n",
              "      border-color: transparent;\n",
              "      border-bottom-color: var(--fill-color);\n",
              "    }\n",
              "  }\n",
              "</style>\n",
              "\n",
              "      <script>\n",
              "        async function quickchart(key) {\n",
              "          const quickchartButtonEl =\n",
              "            document.querySelector('#' + key + ' button');\n",
              "          quickchartButtonEl.disabled = true;  // To prevent multiple clicks.\n",
              "          quickchartButtonEl.classList.add('colab-df-spinner');\n",
              "          try {\n",
              "            const charts = await google.colab.kernel.invokeFunction(\n",
              "                'suggestCharts', [key], {});\n",
              "          } catch (error) {\n",
              "            console.error('Error during call to suggestCharts:', error);\n",
              "          }\n",
              "          quickchartButtonEl.classList.remove('colab-df-spinner');\n",
              "          quickchartButtonEl.classList.add('colab-df-quickchart-complete');\n",
              "        }\n",
              "        (() => {\n",
              "          let quickchartButtonEl =\n",
              "            document.querySelector('#df-c4cf67b7-ab01-4416-8647-5a79d0867a20 button');\n",
              "          quickchartButtonEl.style.display =\n",
              "            google.colab.kernel.accessAllowed ? 'block' : 'none';\n",
              "        })();\n",
              "      </script>\n",
              "    </div>\n",
              "\n",
              "    </div>\n",
              "  </div>\n"
            ],
            "application/vnd.google.colaboratory.intrinsic+json": {
              "type": "dataframe",
              "variable_name": "df"
            }
          },
          "metadata": {},
          "execution_count": 26
        }
      ]
    },
    {
      "cell_type": "code",
      "source": [
        "desc = df.describe(percentiles=[0.10, 0.25, 0.50, 0.75, 0.90]).copy()\n",
        "\n",
        "# Ubah salary ke satuan ratus ribu (100,000) agar lebih ringkas\n",
        "desc['salary(x100k)'] = desc['salary'] / 100000\n",
        "desc['salary_in_usd(x100k USD)'] = desc['salary_in_usd'] / 100000\n",
        "\n",
        "desc.drop(columns=['salary', 'salary_in_usd'], inplace=True)\n",
        "\n",
        "desc = desc.round(2)\n",
        "\n",
        "print(desc)\n"
      ],
      "metadata": {
        "colab": {
          "base_uri": "https://localhost:8080/"
        },
        "id": "SMTOYeXRjECD",
        "outputId": "96518025-c972-46c1-f92a-b5a57d9f1070"
      },
      "execution_count": 27,
      "outputs": [
        {
          "output_type": "stream",
          "name": "stdout",
          "text": [
            "       work_year  remote_ratio  salary(x100k)  salary_in_usd(x100k USD)\n",
            "count  121603.00     121603.00           1.22                      1.22\n",
            "mean     2024.30         20.98           1.62                      1.58\n",
            "std         0.68         40.64           2.07                      0.74\n",
            "min      2020.00          0.00           0.14                      0.15\n",
            "10%      2024.00          0.00           0.75                      0.75\n",
            "25%      2024.00          0.00           1.06                      1.06\n",
            "50%      2024.00          0.00           1.47                      1.46\n",
            "75%      2025.00          0.00           1.99                      1.98\n",
            "90%      2025.00        100.00           2.51                      2.50\n",
            "max      2025.00        100.00         304.00                      8.00\n"
          ]
        }
      ]
    },
    {
      "cell_type": "markdown",
      "source": [
        "Range nilai data pada salary dalam usd bernilai  15000 – 800000\n",
        "\n",
        "Range nilai data pada work_year berada pada rentang 2020 – 2025"
      ],
      "metadata": {
        "id": "OI8rKyMnkJfA"
      }
    },
    {
      "cell_type": "markdown",
      "source": [
        "### Terdiri dari apa saja pada atribut kategorikal Job Title"
      ],
      "metadata": {
        "id": "603BaDbBrSma"
      }
    },
    {
      "cell_type": "code",
      "source": [
        "df[\"job_title\"].nunique()"
      ],
      "metadata": {
        "id": "60rLgEMckZbG",
        "colab": {
          "base_uri": "https://localhost:8080/"
        },
        "outputId": "afa6bae9-205c-4b22-e2ec-ee099ee2f129"
      },
      "execution_count": 28,
      "outputs": [
        {
          "output_type": "execute_result",
          "data": {
            "text/plain": [
              "371"
            ]
          },
          "metadata": {},
          "execution_count": 28
        }
      ]
    },
    {
      "cell_type": "markdown",
      "source": [
        "Ada 371  nilai berbeda dari atribut job_title"
      ],
      "metadata": {
        "id": "gEGP6deUrizw"
      }
    },
    {
      "cell_type": "code",
      "source": [
        "top_20_job_title = df[\"job_title\"].value_counts()[:20]\n",
        "top_20_job_title"
      ],
      "metadata": {
        "colab": {
          "base_uri": "https://localhost:8080/",
          "height": 734
        },
        "id": "hE1epVnmrsKC",
        "outputId": "501a1d3c-c906-44c9-b0d2-545a155dc050"
      },
      "execution_count": 29,
      "outputs": [
        {
          "output_type": "execute_result",
          "data": {
            "text/plain": [
              "job_title\n",
              "Data Scientist                    16319\n",
              "Data Engineer                     13878\n",
              "Software Engineer                 13598\n",
              "Data Analyst                      11396\n",
              "Engineer                           8418\n",
              "Machine Learning Engineer          7801\n",
              "Manager                            5880\n",
              "Analyst                            3762\n",
              "Research Scientist                 3049\n",
              "Applied Scientist                  2075\n",
              "Product Manager                    2000\n",
              "Data Architect                     1915\n",
              "Associate                          1875\n",
              "Analytics Engineer                 1752\n",
              "Research Engineer                  1528\n",
              "AI Engineer                        1434\n",
              "Consultant                          979\n",
              "Data Manager                        919\n",
              "Business Intelligence Engineer      824\n",
              "Data Specialist                     750\n",
              "Name: count, dtype: int64"
            ],
            "text/html": [
              "<div>\n",
              "<style scoped>\n",
              "    .dataframe tbody tr th:only-of-type {\n",
              "        vertical-align: middle;\n",
              "    }\n",
              "\n",
              "    .dataframe tbody tr th {\n",
              "        vertical-align: top;\n",
              "    }\n",
              "\n",
              "    .dataframe thead th {\n",
              "        text-align: right;\n",
              "    }\n",
              "</style>\n",
              "<table border=\"1\" class=\"dataframe\">\n",
              "  <thead>\n",
              "    <tr style=\"text-align: right;\">\n",
              "      <th></th>\n",
              "      <th>count</th>\n",
              "    </tr>\n",
              "    <tr>\n",
              "      <th>job_title</th>\n",
              "      <th></th>\n",
              "    </tr>\n",
              "  </thead>\n",
              "  <tbody>\n",
              "    <tr>\n",
              "      <th>Data Scientist</th>\n",
              "      <td>16319</td>\n",
              "    </tr>\n",
              "    <tr>\n",
              "      <th>Data Engineer</th>\n",
              "      <td>13878</td>\n",
              "    </tr>\n",
              "    <tr>\n",
              "      <th>Software Engineer</th>\n",
              "      <td>13598</td>\n",
              "    </tr>\n",
              "    <tr>\n",
              "      <th>Data Analyst</th>\n",
              "      <td>11396</td>\n",
              "    </tr>\n",
              "    <tr>\n",
              "      <th>Engineer</th>\n",
              "      <td>8418</td>\n",
              "    </tr>\n",
              "    <tr>\n",
              "      <th>Machine Learning Engineer</th>\n",
              "      <td>7801</td>\n",
              "    </tr>\n",
              "    <tr>\n",
              "      <th>Manager</th>\n",
              "      <td>5880</td>\n",
              "    </tr>\n",
              "    <tr>\n",
              "      <th>Analyst</th>\n",
              "      <td>3762</td>\n",
              "    </tr>\n",
              "    <tr>\n",
              "      <th>Research Scientist</th>\n",
              "      <td>3049</td>\n",
              "    </tr>\n",
              "    <tr>\n",
              "      <th>Applied Scientist</th>\n",
              "      <td>2075</td>\n",
              "    </tr>\n",
              "    <tr>\n",
              "      <th>Product Manager</th>\n",
              "      <td>2000</td>\n",
              "    </tr>\n",
              "    <tr>\n",
              "      <th>Data Architect</th>\n",
              "      <td>1915</td>\n",
              "    </tr>\n",
              "    <tr>\n",
              "      <th>Associate</th>\n",
              "      <td>1875</td>\n",
              "    </tr>\n",
              "    <tr>\n",
              "      <th>Analytics Engineer</th>\n",
              "      <td>1752</td>\n",
              "    </tr>\n",
              "    <tr>\n",
              "      <th>Research Engineer</th>\n",
              "      <td>1528</td>\n",
              "    </tr>\n",
              "    <tr>\n",
              "      <th>AI Engineer</th>\n",
              "      <td>1434</td>\n",
              "    </tr>\n",
              "    <tr>\n",
              "      <th>Consultant</th>\n",
              "      <td>979</td>\n",
              "    </tr>\n",
              "    <tr>\n",
              "      <th>Data Manager</th>\n",
              "      <td>919</td>\n",
              "    </tr>\n",
              "    <tr>\n",
              "      <th>Business Intelligence Engineer</th>\n",
              "      <td>824</td>\n",
              "    </tr>\n",
              "    <tr>\n",
              "      <th>Data Specialist</th>\n",
              "      <td>750</td>\n",
              "    </tr>\n",
              "  </tbody>\n",
              "</table>\n",
              "</div><br><label><b>dtype:</b> int64</label>"
            ]
          },
          "metadata": {},
          "execution_count": 29
        }
      ]
    },
    {
      "cell_type": "markdown",
      "source": [
        "Berikut adalah 20 nilai dari job title dengan frekuensi tertinggi"
      ],
      "metadata": {
        "id": "uJuwED3vszD6"
      }
    },
    {
      "cell_type": "markdown",
      "source": [
        "## Statistik"
      ],
      "metadata": {
        "id": "LpkwVHmVsU5I"
      }
    },
    {
      "cell_type": "code",
      "source": [
        "plt.figure(figsize = (16, 7))\n",
        "top_20_job_title.sort_values(ascending = True).plot(kind = 'barh', color = sns.color_palette('tab20'), edgecolor = 'black')\n",
        "plt.ylabel('Pekerjaan', fontsize = 16)\n",
        "plt.xlabel('\\nNumber of Occurrences', fontsize = 16)\n",
        "plt.title('20 Pekerjaan Dengan Frekuensi Tertinggi\\n', fontsize = 16)\n",
        "plt.xticks(rotation = 0, ha = 'center', fontsize = 16)\n",
        "plt.tight_layout()\n",
        "plt.show()"
      ],
      "metadata": {
        "colab": {
          "base_uri": "https://localhost:8080/",
          "height": 601
        },
        "id": "kdv8Em6As6Xt",
        "outputId": "94fe27f5-c1f3-4fa6-fb42-1d58a4d16696"
      },
      "execution_count": 30,
      "outputs": [
        {
          "output_type": "display_data",
          "data": {
            "text/plain": [
              "<Figure size 1600x700 with 1 Axes>"
            ],
            "image/png": "[encoded data removed]"
          },
          "metadata": {}
        }
      ]
    },
    {
      "cell_type": "markdown",
      "source": [
        "### Insights\n",
        "\n",
        "\"Data Scientist\" menempati posisi teratas dengan 16319 lowongan pekerjaan, men\n",
        "egaskan kembali perannya sebagai pemimpin di bidang data science. Para data scientist sangat dicari karena keahlian mereka dalam analisis dan pemodelan data yang krusial untuk pengambilan keputusan berbasis data.\n",
        "\n",
        "\"Data Engineer\" berada di posisi kedua dengan 13878 lowongan pekerjaan, menunjukkan permintaan yang sangat besar untuk profesional yang ahli dalam data engineering. Hal ini menekankan pentingnya peran infrastruktur data dalam organisasi modern.\n",
        "\n",
        "\"Software Engineer\" dengan 13598 lowongan pekerjaan merupakan jabatan penting dalam ekosistem teknologi yang mendukung pengembangan perangkat lunak dan integrasi data. Posisi ini berkontribusi pada pembangunan alat dan sistem yang dibutuhkan untuk pengolahan data yang efisien.**bold text**"
      ],
      "metadata": {
        "id": "wYDyDko1zobd"
      }
    },
    {
      "cell_type": "code",
      "source": [
        "desc = df.describe(percentiles=[0.10, 0.25, 0.50, 0.75, 0.90]).copy()\n",
        "\n",
        "# Ubah salary ke satuan ratus ribu (100,000) agar lebih ringkas\n",
        "desc['salary(x100k)'] = desc['salary'] / 100000\n",
        "desc['salary_in_usd(x100k USD)'] = desc['salary_in_usd'] / 100000\n",
        "\n",
        "desc.drop(columns=['salary', 'salary_in_usd'], inplace=True)\n",
        "\n",
        "desc = desc.round(2)\n",
        "\n",
        "print(desc)\n"
      ],
      "metadata": {
        "colab": {
          "base_uri": "https://localhost:8080/"
        },
        "id": "oWTNliOysYy3",
        "outputId": "1f23df95-548a-477a-af4c-0d8647198fa3"
      },
      "execution_count": 31,
      "outputs": [
        {
          "output_type": "stream",
          "name": "stdout",
          "text": [
            "       work_year  remote_ratio  salary(x100k)  salary_in_usd(x100k USD)\n",
            "count  121603.00     121603.00           1.22                      1.22\n",
            "mean     2024.30         20.98           1.62                      1.58\n",
            "std         0.68         40.64           2.07                      0.74\n",
            "min      2020.00          0.00           0.14                      0.15\n",
            "10%      2024.00          0.00           0.75                      0.75\n",
            "25%      2024.00          0.00           1.06                      1.06\n",
            "50%      2024.00          0.00           1.47                      1.46\n",
            "75%      2025.00          0.00           1.99                      1.98\n",
            "90%      2025.00        100.00           2.51                      2.50\n",
            "max      2025.00        100.00         304.00                      8.00\n"
          ]
        }
      ]
    },
    {
      "cell_type": "code",
      "source": [
        "plt.figure(figsize=(10,5))\n",
        "sns.histplot(df['salary_in_usd'], bins=30, kde=False)\n",
        "plt.axvline(df[\"salary_in_usd\"].median(), color=\"tomato\", label = \"Median Salary\")\n",
        "plt.axvline(df[\"salary_in_usd\"].mean(), color=\"lime\", label = \"Mean Salary\", linestyle=\"--\")\n",
        "\n",
        "plt.legend()\n",
        "plt.title('Distribusi Salary dalam USD')\n",
        "plt.xlabel('Salary (USD)')\n",
        "plt.ylabel('Frekuensi')\n",
        "plt.show()"
      ],
      "metadata": {
        "colab": {
          "base_uri": "https://localhost:8080/",
          "height": 487
        },
        "id": "VUzQzD_i2G4v",
        "outputId": "c2f10de8-b5f1-41e8-a54d-4a257d2d34f8"
      },
      "execution_count": 32,
      "outputs": [
        {
          "output_type": "display_data",
          "data": {
            "text/plain": [
              "<Figure size 1000x500 with 1 Axes>"
            ],
            "image/png": "[encoded data removed]"
          },
          "metadata": {}
        }
      ]
    },
    {
      "cell_type": "code",
      "source": [
        "country_names = {\n",
        "    \"US\": \"United States\",\n",
        "    \"GB\": \"United Kingdom\",\n",
        "    \"CA\": \"Canada\",\n",
        "    \"AU\": \"Australia\",\n",
        "    \"DE\": \"Germany\"\n",
        "}\n",
        "top_5_loc = df[\"company_location\"].value_counts().head(5)\n",
        "top_5_labels = top_5_loc.index.map(lambda code: country_names.get(code, code))\n",
        "top_5_values = (top_5_loc / sum(top_5_loc)) * 100\n",
        "\n",
        "plt.figure(figsize=(10, 6))\n",
        "bars = plt.barh(top_5_labels, top_5_values, color=[\"#ADA2FF\", \"#C0DEFF\", \"#FCDDB0\", \"#FF9F9F\", \"#EDD2F3\"])\n",
        "\n",
        "for bar, value in zip(bars, top_5_values):\n",
        "    plt.text(bar.get_width() + 1, bar.get_y() + bar.get_height()/2,\n",
        "             f\"{value:.1f}%\", va='center', fontsize=12, fontfamily='monospace')\n",
        "\n",
        "plt.title(\"Top 5 Locations With Huge Opportunities\")\n",
        "plt.xlabel(\"Popularity of Jobs (%)\")\n",
        "plt.gca().invert_yaxis()\n",
        "plt.tight_layout()\n",
        "plt.show()\n"
      ],
      "metadata": {
        "colab": {
          "base_uri": "https://localhost:8080/",
          "height": 607
        },
        "id": "2v79_urqqCny",
        "outputId": "98c9b32c-a5c1-4903-ba65-ef9d68e2f518"
      },
      "execution_count": 33,
      "outputs": [
        {
          "output_type": "display_data",
          "data": {
            "text/plain": [
              "<Figure size 1000x600 with 1 Axes>"
            ],
            "image/png": "[encoded data removed]"
          },
          "metadata": {}
        }
      ]
    },
    {
      "cell_type": "code",
      "source": [
        "colors = sns.color_palette(\"Set2\")\n",
        "plt.figure(figsize = (20, 6))\n",
        "ax = df[\"employment_type\"].value_counts().plot(kind = 'bar', color = colors, rot = 0)\n",
        "ax.set_xticklabels(('Full-Time', 'Contract', 'Part-Time', 'Freelance'))\n",
        "\n",
        "for p in ax.patches:\n",
        "    ax.annotate(int(p.get_height()), (p.get_x() + 0.25, p.get_height() + 1), ha = 'center', va = 'bottom', color = 'black')\n",
        "    ax.tick_params(axis = 'both', labelsize = 15)\n",
        "plt.xlabel('Employment Type', weight = \"bold\", color = \"#D71313\", fontsize = 14, labelpad = 20)\n",
        "plt.ylabel('Frekuensi Kemunculan', weight = \"bold\", color = \"#D71313\", fontsize = 14, labelpad = 20);"
      ],
      "metadata": {
        "id": "tv69AdhrTEir",
        "outputId": "906f241e-adc9-4b12-ba98-0813f0b72bae",
        "colab": {
          "base_uri": "https://localhost:8080/",
          "height": 457
        }
      },
      "execution_count": 34,
      "outputs": [
        {
          "output_type": "display_data",
          "data": {
            "text/plain": [
              "<Figure size 2000x600 with 1 Axes>"
            ],
            "image/png": "[encoded data removed]"
          },
          "metadata": {}
        }
      ]
    },
    {
      "cell_type": "code",
      "source": [
        "country_names = {\n",
        "    \"US\": \"United States\",\n",
        "    \"GB\": \"United Kingdom\",\n",
        "    \"CA\": \"Canada\",\n",
        "    \"AU\": \"Australia\",\n",
        "    \"DE\": \"Germany\"\n",
        "}\n",
        "\n",
        "company_loc = df[\"company_location\"].value_counts()\n",
        "top_5_loc = company_loc.head(5)\n",
        "\n",
        "top_5_labels = top_5_loc.index.map(lambda code: country_names.get(code, code))\n",
        "fig = px.bar(\n",
        "    top_5_loc,\n",
        "    y=top_5_labels,\n",
        "    x=(top_5_loc / sum(top_5_loc)) * 100,\n",
        "    color=top_5_labels,\n",
        "    color_discrete_sequence=[\"#ADA2FF\", \"#C0DEFF\", \"#FCDDB0\", \"#FF9F9F\", \"#EDD2F3\"],\n",
        "    title=\"Top 5 Locations With Huge Opportunities\",\n",
        "    labels={\"x\": \"Popularity of Jobs (%)\", \"y\": \"Locations\"},\n",
        "    text=top_5_loc.apply(lambda x: f\"{(x / sum(top_5_loc)) * 100:.1f}%\")\n",
        ")\n",
        "\n",
        "fig.update_layout(\n",
        "    showlegend=False,\n",
        "    yaxis={'categoryorder': 'total ascending'}\n",
        ")\n",
        "\n",
        "fig.update_traces(\n",
        "    textposition=\"outside\",\n",
        "    textfont={\"size\": 14, \"family\": \"consolas\"}\n",
        ")\n",
        "\n",
        "fig.show()"
      ],
      "metadata": {
        "id": "tuWjTUX0d3pK"
      },
      "execution_count": null,
      "outputs": []
    },
    {
      "cell_type": "code",
      "source": [
        "level_labels = {\n",
        "    \"EN\": \"Entry-level\",\n",
        "    \"MI\": \"Mid-level\",\n",
        "    \"SE\": \"Senior-level\",\n",
        "    \"EX\": \"Executive-level\"\n",
        "}\n",
        "\n",
        "exp_level = df[\"experience_level\"].value_counts()\n",
        "exp_labels = exp_level.index.map(lambda x: level_labels.get(x, x))\n",
        "\n",
        "fig = px.pie(\n",
        "    names=exp_labels,\n",
        "    values=exp_level,\n",
        "    title=\"Experience Level Frequency\",\n",
        "    color_discrete_sequence=[\"#ADA2FF\", \"#C0DEFF\", \"#FCDDB0\", \"#FF9F9F\"]\n",
        ")\n",
        "\n",
        "fig.update_traces(\n",
        "    textfont={\n",
        "        \"family\": \"consolas\",\n",
        "        \"size\": 16,\n",
        "    },\n",
        "    textinfo=\"percent\",\n",
        "    hovertemplate=\"Experience Level: %{label}<br>Frequency: %{value}\",\n",
        "    marker=dict(line=dict(color='#111', width=2))\n",
        ")\n",
        "\n",
        "fig.show()\n",
        "\n"
      ],
      "metadata": {
        "id": "7w1ZAnBt2SNs"
      },
      "execution_count": null,
      "outputs": []
    },
    {
      "cell_type": "markdown",
      "source": [
        "### 📊 Insight Statistik Data Gaji\n",
        "\n",
        "### 🗓️ Tahun (`work_year`)\n",
        "- Mayoritas data berasal dari tahun **2024**, dengan kuartil atas (75% dan 90%) sudah masuk ke **2025**.\n",
        "- Ini menunjukkan bahwa dataset mencakup data **terbaru dan prediksi ke depan**.\n",
        "\n",
        "---\n",
        "\n",
        "### 💵 Gaji dalam USD (`salary_in_usd`)\n",
        "- **Rata-rata (mean):** \\$157.672\n",
        "- **Median (50%):** \\$146.100 → menunjukkan distribusi sedikit **skewed ke kanan** (positif), karena ada outlier gaji tinggi.\n",
        "- **Rentang gaji:**\n",
        "  - Minimum: \\$15.000\n",
        "  - Maksimum: \\$800.000 😲\n",
        "- 📌 Artinya: Terdapat **ketimpangan distribusi gaji**, dengan sebagian kecil pekerjaan berpenghasilan sangat tinggi.\n",
        "\n",
        "#### 📈 Distribusi Gaji per Persentil:\n",
        "| Persentil | Gaji (USD) |\n",
        "|-----------|------------|\n",
        "| 10%       | 75.000     |\n",
        "| 25%       | 106.000    |\n",
        "| 50%       | 146.100    |\n",
        "| 75%       | 198.000    |\n",
        "| 90%       | 250.200    |\n",
        "\n",
        "> 🔍 Sekitar 25% pekerja bergaji di bawah \\$106.000 dan 25% lainnya bergaji di atas \\$198.000.\n",
        "\n",
        "---\n",
        "\n",
        "### 🏠 Tingkat Kerja Jarak Jauh (`remote_ratio`)\n",
        "- **Median (50%) = 0%** → artinya sebagian besar pekerjaan **bukan remote**.\n",
        "- Namun, **90% tertinggi mencapai 100% remote**, yang berarti:\n",
        "  - Sebagian besar tetap onsite/hybrid.\n",
        "  - Tapi ada **peluang besar** untuk pekerjaan **sepenuhnya remote**, terutama untuk posisi elite.\n",
        "\n",
        "---\n",
        "\n",
        "### 🧾 Ringkasan Insight Utama:\n",
        "\n",
        "| Topik             | Insight Singkat                                                                 |\n",
        "|-------------------|----------------------------------------------------------------------------------|\n",
        "| **Tahun**         | Mayoritas data tahun 2024, sebagian masuk 2025.                                 |\n",
        "| **Gaji**          | Ketimpangan distribusi: ada gap besar antar kuartil.                            |\n",
        "| **Outlier Gaji**  | Ada pekerjaan dengan gaji hingga \\$800.000.                                     |\n",
        "| **Remote Work**   | Mayoritas belum remote, tapi 10% pekerjaan bersifat 100% remote.                |\n",
        "\n",
        "---\n"
      ],
      "metadata": {
        "id": "xNLLDCs81tMA"
      }
    },
    {
      "cell_type": "markdown",
      "source": [
        "## Visualisasi"
      ],
      "metadata": {
        "id": "X9qMkQxIq-S9"
      }
    },
    {
      "cell_type": "code",
      "source": [
        "plt.figure(figsize = (10,6))\n",
        "salary_trend = df[['salary_in_usd', 'work_year']].sort_values(by = 'work_year')\n",
        "p = sns.lineplot(data =salary_trend ,x = 'work_year', y = 'salary_in_usd', marker = 'o',linestyle='--', color='Blue', markersize=8 )\n",
        "plt.title('Salary Trend Over The Time', fontsize=12, fontweight='bold')\n",
        "\n",
        "p.set_facecolor(\"#f4f4f4\")\n",
        "plt.legend(['Salary'], loc='best', fontsize=12)\n",
        "\n",
        "p.grid(False)\n",
        "\n",
        "plt.show()"
      ],
      "metadata": {
        "id": "0zWPav2aq_xR"
      },
      "execution_count": null,
      "outputs": []
    },
    {
      "cell_type": "code",
      "source": [
        "plt.figure(figsize=(10, 6))\n",
        "p = sns.lineplot(data=df, x='work_year', y='salary_in_usd', hue='company_size', marker='o')\n",
        "\n",
        "plt.xlabel('Year Work', fontsize=12, fontweight='bold')\n",
        "plt.ylabel('Salary in USD', fontsize=12, fontweight='bold')\n",
        "\n",
        "plt.legend(title='Company Size', title_fontsize=10, fontsize=10, loc='upper left')\n",
        "\n",
        "plt.title('Salary Trend Over Time by Company Size', fontsize=14, fontweight='bold')\n",
        "\n",
        "\n",
        "p.set_facecolor(\"#f4f4f4\")\n",
        "\n",
        "p.grid(False)\n",
        "plt.show()"
      ],
      "metadata": {
        "id": "i5m_0bdgsyKl"
      },
      "execution_count": null,
      "outputs": []
    },
    {
      "cell_type": "code",
      "source": [
        "level_labels = {\n",
        "    \"EN\": \"Entry-level\",\n",
        "    \"MI\": \"Mid-level\",\n",
        "    \"SE\": \"Senior-level\",\n",
        "    \"EX\": \"Executive-level\"\n",
        "}\n",
        "\n",
        "exp_salary = df.groupby('experience_level')['salary_in_usd'].mean()\n",
        "\n",
        "exp_salary.index = exp_salary.index.map(lambda x: level_labels.get(x, x))\n",
        "\n",
        "custom_colors = [\"#ADA2FF\", \"#C0DEFF\", \"#FCDDB0\", \"#FF9F9F\"]\n",
        "\n",
        "plt.figure(figsize=(10, 6))\n",
        "ax = sns.barplot(\n",
        "    x=exp_salary.index,\n",
        "    y=exp_salary.values,\n",
        "    palette=custom_colors\n",
        ")\n",
        "\n",
        "plt.title('Average Salary by Experience Level', fontsize=14, fontweight='bold')\n",
        "plt.xlabel('Experience Level', fontsize=12, fontweight='bold')\n",
        "plt.ylabel('Average Salary (USD)', fontsize=12, fontweight='bold')\n",
        "\n",
        "for bar in ax.containers:\n",
        "    ax.bar_label(\n",
        "        bar,\n",
        "        fmt='%.0f',\n",
        "        padding=3,\n",
        "        fontsize=11,\n",
        "        fontweight='bold',\n",
        "        bbox=dict(boxstyle=\"round,pad=0.3\", fc=\"#fff3cd\", ec=\"black\", lw=0.5)\n",
        "    )\n",
        "\n",
        "ax.set_facecolor(\"#f4f4f4\")\n",
        "ax.grid(False)\n",
        "\n",
        "plt.tight_layout()\n",
        "plt.show()"
      ],
      "metadata": {
        "id": "xYjXWXX6BJyN"
      },
      "execution_count": null,
      "outputs": []
    },
    {
      "cell_type": "code",
      "source": [
        "employment_labels = {\n",
        "    \"FT\": \"Full-time\",\n",
        "    \"PT\": \"Part-time\",\n",
        "    \"CT\": \"Contract\",\n",
        "    \"FL\": \"Freelance\"\n",
        "}\n",
        "\n",
        "emp_salary = df.groupby('employment_type')['salary_in_usd'].mean()\n",
        "emp_salary.index = emp_salary.index.map(lambda x: employment_labels.get(x, x))\n",
        "\n",
        "colors = sns.color_palette(\"Set2\")\n",
        "\n",
        "plt.figure(figsize=(10, 6))\n",
        "p = sns.barplot(x=emp_salary.index, y=emp_salary.values, palette=colors)\n",
        "\n",
        "plt.title('Average Salary by Employment Type', fontsize=14, fontweight='bold')\n",
        "plt.xlabel('Employment Type', fontsize=12, fontweight='bold')\n",
        "plt.ylabel('Average Salary (USD)', fontsize=12, fontweight='bold')\n",
        "\n",
        "for bar in p.containers:\n",
        "    p.bar_label(\n",
        "        bar,\n",
        "        fmt='%.0f',\n",
        "        padding=3,\n",
        "        fontsize=11,\n",
        "        fontweight='bold',\n",
        "        bbox=dict(boxstyle=\"round,pad=0.3\", fc=\"#fff3cd\", ec=\"black\", lw=0.5)\n",
        "    )\n",
        "\n",
        "p.set_facecolor(\"#f4f4f4\")\n",
        "p.grid(False)\n",
        "plt.tight_layout()\n",
        "plt.show()"
      ],
      "metadata": {
        "id": "IrJNcb5IB8hv"
      },
      "execution_count": null,
      "outputs": []
    },
    {
      "cell_type": "code",
      "source": [
        "size_labels = {\n",
        "    \"S\": \"Small\",\n",
        "    \"M\": \"Medium\",\n",
        "    \"L\": \"Large\"\n",
        "}\n",
        "\n",
        "company_size_salary = df.groupby('company_size')['salary_in_usd'].mean()\n",
        "company_size_salary.index = company_size_salary.index.map(lambda x: size_labels.get(x, x))\n",
        "\n",
        "plt.figure(figsize=(10, 6))\n",
        "p = sns.barplot(x=company_size_salary.index, y=company_size_salary.values, palette='rainbow')\n",
        "\n",
        "plt.title('Average Salary by Company Size', fontsize=14, fontweight='bold')\n",
        "plt.xlabel('Company Size', fontsize=12, fontweight='bold')\n",
        "plt.ylabel('Average Salary (USD)', fontsize=12, fontweight='bold')\n",
        "\n",
        "for container in p.containers:\n",
        "    p.bar_label(\n",
        "        container,\n",
        "        fontweight='bold',\n",
        "        padding=5,\n",
        "        fontsize=12,\n",
        "        bbox={\n",
        "            'boxstyle': 'round',\n",
        "            'facecolor': '#FFECB3',\n",
        "            'edgecolor': 'black'\n",
        "        }\n",
        "    )\n",
        "\n",
        "p.set_facecolor(\"#f4f4f4\")\n",
        "p.grid(False)\n",
        "\n",
        "plt.show()\n"
      ],
      "metadata": {
        "id": "IJjjQ0ciLK5s"
      },
      "execution_count": null,
      "outputs": []
    },
    {
      "cell_type": "markdown",
      "source": [
        "##Membersihkan Data"
      ],
      "metadata": {
        "id": "Xw-cGxs-1vUO"
      }
    },
    {
      "cell_type": "markdown",
      "source": [
        "### Variabel Dependen : salary_in_usd\n",
        "### Variabel Independent : experience_level, company_location, company_size, work_year, employment_type, job_title, employee_residence."
      ],
      "metadata": {
        "id": "DKUkqj4b19wZ"
      }
    },
    {
      "cell_type": "markdown",
      "source": [
        "### Mengecek Missing Values"
      ],
      "metadata": {
        "id": "lMaHQN3S2Qks"
      }
    },
    {
      "cell_type": "code",
      "source": [
        "df.isnull().sum()\n"
      ],
      "metadata": {
        "id": "DNk7pGw92PyK"
      },
      "execution_count": null,
      "outputs": []
    },
    {
      "cell_type": "markdown",
      "source": [
        "tidak ada missing values"
      ],
      "metadata": {
        "id": "JqHXGt4J3JIk"
      }
    },
    {
      "cell_type": "markdown",
      "source": [
        "### Mengecek data duplikat"
      ],
      "metadata": {
        "id": "9_EkNB2v3LWv"
      }
    },
    {
      "cell_type": "code",
      "source": [
        "df.duplicated().sum()\n"
      ],
      "metadata": {
        "id": "f3ngL7iG3QBs"
      },
      "execution_count": null,
      "outputs": []
    },
    {
      "cell_type": "markdown",
      "source": [
        "hah ada 61986 baris duplikat?? 50% dari total baris??\n",
        "\n",
        "Kami juga bingung kenapa tugas data cleansingnya setelah EDA"
      ],
      "metadata": {
        "id": "VbKN6oeD3usF"
      }
    },
    {
      "cell_type": "code",
      "source": [
        "df[df.duplicated()].head()\n"
      ],
      "metadata": {
        "id": "kIbsTqjD3p0r"
      },
      "execution_count": null,
      "outputs": []
    },
    {
      "cell_type": "markdown",
      "source": [
        "Contoh dari data duplikat"
      ],
      "metadata": {
        "id": "8_YbOBQB3yLh"
      }
    },
    {
      "cell_type": "code",
      "source": [
        "df = df.drop_duplicates() #Mengdrop data duplikat\n"
      ],
      "metadata": {
        "id": "uryPBt7a33rF"
      },
      "execution_count": null,
      "outputs": []
    },
    {
      "cell_type": "code",
      "source": [
        "df.duplicated().sum()"
      ],
      "metadata": {
        "id": "xR3XG1iU35Lz"
      },
      "execution_count": null,
      "outputs": []
    },
    {
      "cell_type": "markdown",
      "source": [
        "### Mengecek Nilai aneh\n"
      ],
      "metadata": {
        "id": "zylOcmSO4Ezw"
      }
    },
    {
      "cell_type": "code",
      "source": [
        "df['salary_in_usd'].describe()\n",
        "# df['experience_level'].unique()\n"
      ],
      "metadata": {
        "id": "gZQxB-MW4I_0"
      },
      "execution_count": null,
      "outputs": []
    },
    {
      "cell_type": "code",
      "source": [
        "df['experience_level'].unique()"
      ],
      "metadata": {
        "id": "Sue3gjA0-rh3"
      },
      "execution_count": null,
      "outputs": []
    },
    {
      "cell_type": "markdown",
      "source": [
        "### Mengecek outliers"
      ],
      "metadata": {
        "id": "zgmnrmLC4P4h"
      }
    },
    {
      "cell_type": "code",
      "source": [
        "sns.boxplot(x=df['salary_in_usd'])"
      ],
      "metadata": {
        "id": "CuCuuxhQ4Rnw"
      },
      "execution_count": null,
      "outputs": []
    },
    {
      "cell_type": "markdown",
      "source": [
        "Di sana memang ada outlier, tetapi karena tujuan dari model kami untuk mengetahui  hubungan antara tempat kerja, tahun kerja, company size, employment type, dan job title dengan salary & rentang gajinya masih masuk akal 800k mungkin saja sepuh jadi kami biarkan outliernya"
      ],
      "metadata": {
        "id": "jnwXnxs99sEn"
      }
    },
    {
      "cell_type": "markdown",
      "source": [
        "### Mengecek Format Yang Salah"
      ],
      "metadata": {
        "id": "4VInjjtq_Af7"
      }
    },
    {
      "cell_type": "code",
      "source": [
        "df.dtypes\n"
      ],
      "metadata": {
        "id": "xQnNjFn8-_q5"
      },
      "execution_count": null,
      "outputs": []
    },
    {
      "cell_type": "code",
      "source": [
        "df.shape"
      ],
      "metadata": {
        "id": "1mSbRiZQEirx"
      },
      "execution_count": null,
      "outputs": []
    },
    {
      "cell_type": "markdown",
      "source": [
        "## Membuat Model\n"
      ],
      "metadata": {
        "id": "Qop_ACm7td2A"
      }
    },
    {
      "cell_type": "markdown",
      "source": [
        "### Memilih kolom yang relevan\n"
      ],
      "metadata": {
        "id": "2P4Xsd6ouilu"
      }
    },
    {
      "cell_type": "code",
      "source": [
        "relevant_columns = [\n",
        "    'job_title',\n",
        "    'employee_residence',\n",
        "    'experience_level',\n",
        "    'company_location',\n",
        "    'company_size',\n",
        "    'work_year',\n",
        "    'employment_type',\n",
        "    'salary_in_usd'  # target\n",
        "]\n",
        "\n",
        "df_model = df[relevant_columns]\n",
        "\n",
        "df_model.info()\n",
        "df_model.head() #contoh data"
      ],
      "metadata": {
        "id": "MjFgfGnqtgxx"
      },
      "execution_count": null,
      "outputs": []
    },
    {
      "cell_type": "markdown",
      "source": [
        "### Mengubah data kategorikal menjadi data numerik"
      ],
      "metadata": {
        "id": "FsZgO76uweCn"
      }
    },
    {
      "cell_type": "code",
      "source": [
        "df_dum = pd.get_dummies(df_model, drop_first=True)\n",
        "df_dum.head()\n"
      ],
      "metadata": {
        "id": "C4cUbD3Fuw7H"
      },
      "execution_count": null,
      "outputs": []
    },
    {
      "cell_type": "markdown",
      "source": [
        "### Membagi data untuk dilatih dan diprediksi"
      ],
      "metadata": {
        "id": "Nu8wADo8w-5y"
      }
    },
    {
      "cell_type": "code",
      "source": [
        "X = df_dum.drop('salary_in_usd', axis=1)  # fitur (independent variables)\n",
        "y = df_dum['salary_in_usd'].values"
      ],
      "metadata": {
        "id": "kSEruguGwm7w"
      },
      "execution_count": null,
      "outputs": []
    },
    {
      "cell_type": "code",
      "source": [
        "from sklearn.model_selection import train_test_split\n",
        "from sklearn.linear_model import LinearRegression\n",
        "from sklearn.model_selection import cross_val_score\n"
      ],
      "metadata": {
        "id": "BTbKuoMExHIk"
      },
      "execution_count": null,
      "outputs": []
    },
    {
      "cell_type": "code",
      "source": [
        "X_train,X_test,y_train,y_test = train_test_split(X,y,test_size=0.2, random_state=42)\n"
      ],
      "metadata": {
        "id": "jLDj9IkuxMKD"
      },
      "execution_count": null,
      "outputs": []
    },
    {
      "cell_type": "code",
      "source": [
        "lm = LinearRegression()\n",
        "lm.fit(X_train,y_train)\n",
        "\n",
        "cross_val_score(lm,X_train,y_train, scoring='neg_mean_absolute_error')"
      ],
      "metadata": {
        "id": "7GMqeYEuxQ6m"
      },
      "execution_count": null,
      "outputs": []
    },
    {
      "cell_type": "code",
      "source": [
        "cross_val_score(lm,X_train,y_train, scoring='neg_mean_absolute_error', cv=3)"
      ],
      "metadata": {
        "id": "-yyX-1V0xhwY"
      },
      "execution_count": null,
      "outputs": []
    },
    {
      "cell_type": "code",
      "source": [
        "np.mean(cross_val_score(lm,X_train,y_train, scoring='neg_mean_absolute_error', cv=2))"
      ],
      "metadata": {
        "id": "aenVzvjrxkz-"
      },
      "execution_count": null,
      "outputs": []
    }
  ]
}